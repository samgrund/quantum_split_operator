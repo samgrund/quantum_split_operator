{
 "cells": [
  {
   "cell_type": "code",
   "execution_count": 1,
   "metadata": {},
   "outputs": [],
   "source": [
    "import numpy as np\n",
    "import matplotlib.pyplot as plt\n",
    "from scipy.stats import norm\n",
    "from scipy.fft import fft, ifft,fftfreq\n",
    "from matplotlib import animation\n",
    "from scipy.optimize import curve_fit\n",
    "#plt.rc('animation', html='jshtml')\n",
    "plt.style.use('ggplot')\n",
    "%matplotlib qt"
   ]
  },
  {
   "cell_type": "markdown",
   "metadata": {},
   "source": [
    "Der indlæses startsbetingelser jævnfør dokumentet:"
   ]
  },
  {
   "cell_type": "code",
   "execution_count": 2,
   "metadata": {},
   "outputs": [],
   "source": [
    "N = 2**13 #antal punkter i xgrid og pgrid\n",
    "dt = .01\n",
    "timesteps = 3000\n",
    "x=np.linspace(0,1000,N)\n",
    "dx = (max(x)-min(x))/(N-1)\n",
    "p = fftfreq(N, dx)*2*np.pi #Ved at lave p-griddet på den her måde skal man ikke gå fra psi til f osv."
   ]
  },
  {
   "cell_type": "code",
   "execution_count": 3,
   "metadata": {},
   "outputs": [],
   "source": [
    "k0 = 5 #startimpuls"
   ]
  },
  {
   "cell_type": "markdown",
   "metadata": {},
   "source": [
    "Der genereres en gaussisk startbølgefunktionen der passer nogenlunde til det xgrid, der er blevet fastlagt ved dx og N. Også et potentiale."
   ]
  },
  {
   "cell_type": "code",
   "execution_count": 4,
   "metadata": {},
   "outputs": [],
   "source": [
    "a=10\n",
    "psi_0 = np.exp(-(x-150)**2/a**2)*np.exp(1.j*k0*x)\n",
    "psi_0 = psi_0/np.sqrt(np.trapz(abs(psi_0)**2,x))\n",
    "\n",
    "\n",
    "\n",
    "#psi_0 = norm.pdf(x, np.mean(x)-40, 20) * np.exp(-1j*k0*x) #gaussisk starbølgefunktion\n",
    "#V = lambda x: .01*(x-110)**2 #polynomielt potentiale\n",
    "\n",
    "Va = np.zeros_like(x)\n",
    "#Va[int(len(x)*0.52):int(len(x)*0.54)] = 5\n",
    "Va = 12.5*np.exp(-(x-200)**2/4./1**2)\n",
    "V = lambda x: Va"
   ]
  },
  {
   "cell_type": "markdown",
   "metadata": {},
   "source": [
    "Her defineres de deloperationer, der vil blive anvendt i simulationen:"
   ]
  },
  {
   "cell_type": "code",
   "execution_count": 5,
   "metadata": {},
   "outputs": [],
   "source": [
    "def t_operator(f): #Anvend T-operator delen fra lign 24\n",
    "    return f * np.exp(-1.j*p**2/2 *dt/2)\n",
    "\n",
    "def v_operator(f): #Anvend V-operator delen fra lign 24\n",
    "    return f * np.exp(-1.j*Va*dt)"
   ]
  },
  {
   "cell_type": "markdown",
   "metadata": {},
   "source": [
    "Endeligt køres koden igennem pr. tidsskridt. Har prøvet at markere den logiske fremgang i kode-kommentarene:"
   ]
  },
  {
   "cell_type": "code",
   "execution_count": 6,
   "metadata": {},
   "outputs": [],
   "source": [
    "psis = []\n",
    "phis = []\n",
    "\n",
    "psi = psi_0\n",
    "\n",
    "for t in range(timesteps):\n",
    "    if t % 20 == 0: #Gem kun per. 20. tidsskridt (så går animationen lidt hurtigere)\n",
    "        psis.append(psi)\n",
    "    if t % 20 == 0:\n",
    "        phis.append(fft(psi)/np.sqrt(np.trapz(abs(fft(psi))**2,p)))\n",
    "    f = psi\n",
    "    f = t_operator(fft(f)) # f → T_operator(ftilde)\n",
    "    f = v_operator(ifft(f)) # ftilde → V_operator(f)\n",
    "    f = t_operator(fft(f)) # f → T_operator(ftilde)\n",
    "    f = ifft(f) # ftilde → f\n",
    "    psi = f\n",
    "    psi = psi/np.sqrt(np.trapz(abs(psi)**2,x))"
   ]
  },
  {
   "cell_type": "markdown",
   "metadata": {},
   "source": [
    "Plot og animer potentiale og bølgefunktion:"
   ]
  },
  {
   "cell_type": "code",
   "execution_count": 7,
   "metadata": {},
   "outputs": [
    {
     "data": {
      "text/plain": [
       "<matplotlib.animation.FuncAnimation at 0x1db28a61cd0>"
      ]
     },
     "execution_count": 7,
     "metadata": {},
     "output_type": "execute_result"
    }
   ],
   "source": [
    "fig, ax = plt.subplots(1,1,tight_layout=True)\n",
    "psi_plot, = ax.plot([],[],lw=.4,color='k',label=r'$|\\Psi|^2$')\n",
    "#ax.set_ylim(0,0.1)\n",
    "ax.legend(frameon=False,fontsize=14)\n",
    "#ax.set_xticklabels([])\n",
    "#ax.set_yticklabels([])\n",
    "ax.set_xlabel('x')\n",
    "ax.set_ylabel(r'Relative sandsynlighedsdensitet $\\rho$')\n",
    "ax.set_title('Kvantemekanisk potentialetunnelering')\n",
    "ax.grid(b=None)\n",
    "ax2 = ax.twinx()\n",
    "#ax2.set_ylim(0,400)\n",
    "ax2.set_yticklabels([])\n",
    "ax2.show_yticks = False\n",
    "ax2.plot(x,Va,color='red',label='V(x)',lw=.4)\n",
    "ax2.fill_between(x,Va,color='k',alpha=0.5)\n",
    "ax2.legend(frameon=False,loc='upper left',fontsize=14)\n",
    "ax2.set_ylabel('Potentiale')\n",
    "ax2.grid(b=None)\n",
    "ax.set_xlim(0,x[-1])\n",
    "itext = ax.text(600,0.7,s='',fontsize=12)\n",
    "left_side_text = ax.text(10,0.2,s='',fontsize=12)\n",
    "right_side_text = ax.text(600,0.2,s='',fontsize=12)\n",
    "def update(i):\n",
    "    psi_plot.set_data(x,np.abs(psis[i])**2)\n",
    "    left_side_text.set_text('$\\int$ = ' +str(np.round(np.trapz(x[0:1638],np.abs(psis[i][0:1638])**2)/np.trapz(x,np.abs(psis[i])**2),decimals=2)))\n",
    "    right_side_text.set_text('$\\int$ = ' + str(np.round(np.trapz(x[1639:-1],np.abs(psis[i][1639:-1])**2)/np.trapz(x,np.abs(psis[i])**2),decimals=2)))\n",
    "    itext.set_text('t=' + str(i))\n",
    "    return [psi_plot,left_side_text,right_side_text,itext]\n",
    "\n",
    "anim = animation.FuncAnimation(fig,\n",
    "                               update,\n",
    "                               frames=int(timesteps/10-1),\n",
    "                               interval=5)\n",
    "anim"
   ]
  },
  {
   "cell_type": "markdown",
   "metadata": {},
   "source": [
    "#### Undersøgelse af energibevarelse"
   ]
  },
  {
   "cell_type": "code",
   "execution_count": 8,
   "metadata": {},
   "outputs": [],
   "source": [
    "normalized_psis = [np.abs(psis[i])/np.sqrt(np.trapz(np.abs(psis[i])**2,x)) for i in range(len(psis))]\n",
    "integrals = [np.trapz(np.abs(psis[i])**2,x) for i in range(len(psis))]\n",
    "\n",
    "normalized_phis = [np.abs(phis[i])/np.sqrt(np.trapz(np.abs(phis[i])**2,p)) for i in range(len(phis))]\n",
    "integrals_phis = [np.trapz(np.abs(phis[i])**2,p) for i in range(len(phis))]"
   ]
  },
  {
   "cell_type": "code",
   "execution_count": 10,
   "metadata": {},
   "outputs": [],
   "source": [
    "Kin = [p**2 /2 * np.array(normalized_phis[i]) for i in range(len(phis))]\n",
    "Pot = [V(x) * np.array(normalized_psis[i]) for i in range(len(psis))]\n",
    "E_kins = [np.trapz(np.conjugate(normalized_phis[i])*Kin[i],p) for i in range(len(phis))]\n",
    "E_pot = [np.trapz(np.conjugate(normalized_psis[i])*Pot[i],x) for i in range(len(psis))]\n",
    "Es = np.array(E_kins) + np.array(E_pot)"
   ]
  },
  {
   "cell_type": "code",
   "execution_count": 14,
   "metadata": {},
   "outputs": [
    {
     "data": {
      "text/plain": [
       "<matplotlib.legend.Legend at 0x1db274d8c10>"
      ]
     },
     "execution_count": 14,
     "metadata": {},
     "output_type": "execute_result"
    }
   ],
   "source": [
    "efig, eax = plt.subplots(1,1)\n",
    "eax.set_title('Energien igennem simulationen')\n",
    "eax.set_xlabel('Tid')\n",
    "eax.set_ylabel('Energi')\n",
    "eax.plot(np.array(E_kins),label='Kinetiske energi')\n",
    "eax.plot(np.array(E_pot),label='Potentielle energi')\n",
    "eax.plot(np.array(Es),label='Samlede energi')\n",
    "eax.legend(frameon=False,fontsize=12)"
   ]
  },
  {
   "cell_type": "code",
   "execution_count": 12,
   "metadata": {},
   "outputs": [],
   "source": [
    "Energies = np.array([12.51,11.525,12.01,13.01,11.77,12.26,12.76])\n",
    "Transmissions = np.array([0.51,0.13,0.28,0.73,0.19,0.39,0.63])"
   ]
  }
 ],
 "metadata": {
  "kernelspec": {
   "display_name": "Python 3",
   "language": "python",
   "name": "python3"
  },
  "language_info": {
   "codemirror_mode": {
    "name": "ipython",
    "version": 3
   },
   "file_extension": ".py",
   "mimetype": "text/x-python",
   "name": "python",
   "nbconvert_exporter": "python",
   "pygments_lexer": "ipython3",
   "version": "3.8.3"
  }
 },
 "nbformat": 4,
 "nbformat_minor": 4
}
