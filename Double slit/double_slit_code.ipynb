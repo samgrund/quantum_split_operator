{
 "cells": [
  {
   "cell_type": "markdown",
   "metadata": {},
   "source": [
    "# Dobbeltspalte-simulation"
   ]
  },
  {
   "cell_type": "code",
   "execution_count": 1,
   "metadata": {},
   "outputs": [],
   "source": [
    "import numpy as np\n",
    "import matplotlib.pyplot as plt\n",
    "from scipy.fftpack import fft2, ifft2, fftfreq\n",
    "import matplotlib.animation as animation\n",
    "plt.style.use('ggplot')\n",
    "%matplotlib qt"
   ]
  },
  {
   "cell_type": "markdown",
   "metadata": {},
   "source": [
    "#### Sæt simulationsbetingelser"
   ]
  },
  {
   "cell_type": "code",
   "execution_count": 2,
   "metadata": {},
   "outputs": [],
   "source": [
    "N = 2**10 #antal punkter i xgrid og pgrid\n",
    "dt = 0.02 #Tidsskridt\n",
    "timesteps = 300 #Antal simulationstrin"
   ]
  },
  {
   "cell_type": "markdown",
   "metadata": {},
   "source": [
    "#### Initialiser grid"
   ]
  },
  {
   "cell_type": "code",
   "execution_count": 3,
   "metadata": {},
   "outputs": [],
   "source": [
    "x = np.linspace(-100,100,N) #Lav N*N grid mellem -100 og 100\n",
    "x1,x2 = np.meshgrid(x,x) #Definer 2d x-gitter som 2 meshgrids\n",
    "dx = 200/N\n",
    "\n",
    "p = fftfreq(N,dx)*2*np.pi #Pgrid som i 1d\n",
    "p1,p2 = np.meshgrid(p,p) #Definer 2d p-gitter som 2 meshgrids"
   ]
  },
  {
   "cell_type": "markdown",
   "metadata": {},
   "source": [
    "#### Definer $\\Psi_0$"
   ]
  },
  {
   "cell_type": "code",
   "execution_count": 4,
   "metadata": {},
   "outputs": [],
   "source": [
    "def gaus2d(x=0, y=0, mx=0, my=0, sx=20, sy=50):\n",
    "    return 1. / (2. * np.pi * sx * sy) * np.exp(-((x - mx)**2. / (2. * sx**2.) + (y - my)**2. / (2. * sy**2.)))\n",
    "\n",
    "#Generer gaussisk startbølgefunktion med impuls:\n",
    "psi0 = gaus2d(x1, x2, mx=np.mean(x1)-40, my=np.mean(x2)) * np.exp(-1j*(-8)*x)"
   ]
  },
  {
   "cell_type": "markdown",
   "metadata": {},
   "source": [
    "#### Definer V(x)"
   ]
  },
  {
   "cell_type": "code",
   "execution_count": 5,
   "metadata": {},
   "outputs": [],
   "source": [
    "d,a=80,30 #Egenskaber ved dobbeltspalten\n",
    "\n",
    "V = np.zeros_like(x1)\n",
    "V[0:512-int(d/2)-a,500:520] = 500\n",
    "V[512-int(d/2):512+int(d/2),500:520] = 500\n",
    "V[512+int(d/2):512,500:520] = 500\n",
    "V[512+int(d/2)+a:1024,500:520] = 500"
   ]
  },
  {
   "cell_type": "markdown",
   "metadata": {},
   "source": [
    "#### Definer operatorer jævnfør teori"
   ]
  },
  {
   "cell_type": "code",
   "execution_count": 6,
   "metadata": {},
   "outputs": [],
   "source": [
    "def v_operator(psi):\n",
    "    return psi * np.exp(-1.j * V * dt)\n",
    "\n",
    "def t_operator(psi):\n",
    "    return psi * np.exp(-1.j * (p1**2 + p2**2) * dt/2)"
   ]
  },
  {
   "cell_type": "markdown",
   "metadata": {},
   "source": [
    "#### Kør simulation og populer [psis]"
   ]
  },
  {
   "cell_type": "code",
   "execution_count": 7,
   "metadata": {},
   "outputs": [],
   "source": [
    "psis = []\n",
    "psi = psi0\n",
    "for t in range(timesteps):\n",
    "    psis.append(np.abs(psi)**2)\n",
    "    psi = t_operator(fft2(psi))\n",
    "    psi = v_operator(ifft2(psi))\n",
    "    psi = t_operator(fft2(psi))\n",
    "    psi = ifft2(psi)"
   ]
  },
  {
   "cell_type": "markdown",
   "metadata": {},
   "source": [
    "#### Animer"
   ]
  },
  {
   "cell_type": "code",
   "execution_count": 8,
   "metadata": {},
   "outputs": [
    {
     "data": {
      "text/plain": [
       "<matplotlib.animation.FuncAnimation at 0x1a818fd81f0>"
      ]
     },
     "execution_count": 8,
     "metadata": {},
     "output_type": "execute_result"
    }
   ],
   "source": [
    "fig,ax = plt.subplots(1,1)\n",
    "\n",
    "def update(i):\n",
    "       ax.clear()\n",
    "       ax.set_title('Simulated quantum mechanical double slit experiment')\n",
    "       ax.contourf(x1,x2,psis[i],100)\n",
    "    \n",
    "anim = animation.FuncAnimation(fig,\n",
    "                           update,\n",
    "                           frames=len(psis),\n",
    "                           interval=2)\n",
    "anim"
   ]
  },
  {
   "cell_type": "markdown",
   "metadata": {},
   "source": [
    "#### (EVT) gem animation til .gif"
   ]
  },
  {
   "cell_type": "code",
   "execution_count": 9,
   "metadata": {},
   "outputs": [],
   "source": [
    "#writergif = animation.PillowWriter(fps=30)\n",
    "#anim.save('ds.gif',writer=writergif)"
   ]
  },
  {
   "cell_type": "code",
   "execution_count": null,
   "metadata": {},
   "outputs": [],
   "source": []
  }
 ],
 "metadata": {
  "kernelspec": {
   "display_name": "Python 3",
   "language": "python",
   "name": "python3"
  },
  "language_info": {
   "codemirror_mode": {
    "name": "ipython",
    "version": 3
   },
   "file_extension": ".py",
   "mimetype": "text/x-python",
   "name": "python",
   "nbconvert_exporter": "python",
   "pygments_lexer": "ipython3",
   "version": "3.8.3"
  }
 },
 "nbformat": 4,
 "nbformat_minor": 4
}
