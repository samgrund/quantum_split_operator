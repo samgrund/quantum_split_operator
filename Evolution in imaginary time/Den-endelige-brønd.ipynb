{
 "cells": [
  {
   "cell_type": "code",
   "execution_count": 2,
   "metadata": {},
   "outputs": [],
   "source": [
    "import numpy as np\n",
    "import matplotlib.pyplot as plt\n",
    "from scipy.stats import norm\n",
    "from scipy.fftpack import fft, ifft\n",
    "from scipy.fftpack import fftfreq\n",
    "from matplotlib import animation\n",
    "plt.style.use('ggplot')\n",
    "%matplotlib qt"
   ]
  },
  {
   "cell_type": "markdown",
   "metadata": {},
   "source": [
    "Der indlæses startsbetingelser jævnfør dokumentet:"
   ]
  },
  {
   "cell_type": "code",
   "execution_count": 3,
   "metadata": {},
   "outputs": [],
   "source": [
    "N = 5000 #antal punkter i xgrid og pgrid\n",
    "dt = -.1j\n",
    "timesteps = 15000\n",
    "dx = 0.1\n",
    "xl = 0\n",
    "x = xl + dx * np.arange(N) #xgrid\n",
    "n = k = np.arange(N) # indeholder indicer, 0,1,2,3,4...\n",
    "p = fftfreq(N, dx)*2*np.pi"
   ]
  },
  {
   "cell_type": "markdown",
   "metadata": {},
   "source": [
    "Indlæs startsimpuls:"
   ]
  },
  {
   "cell_type": "code",
   "execution_count": 4,
   "metadata": {},
   "outputs": [],
   "source": [
    "k0 = 0"
   ]
  },
  {
   "cell_type": "markdown",
   "metadata": {},
   "source": [
    "Der genereres en gaussisk startbølgefunktionen der passer nogenlunde til det xgrid, der er blevet fastlagt ved dx og N. Også et potentiale."
   ]
  },
  {
   "cell_type": "code",
   "execution_count": 5,
   "metadata": {},
   "outputs": [],
   "source": [
    "psi_0 = norm.pdf(x, np.mean(x), 25) * np.exp(-1j*k0*x) #gaussisk starbølgefunktion\n",
    "Va = np.zeros_like(x)\n",
    "Va[0:int(len(x)*0.30)] = 200\n",
    "Va[int(len(x)*0.70):4999] = 200\n",
    "V = lambda x: Va"
   ]
  },
  {
   "cell_type": "markdown",
   "metadata": {},
   "source": [
    "Her defineres de deloperationer, der vil blive anvendt i simulationen:"
   ]
  },
  {
   "cell_type": "code",
   "execution_count": 6,
   "metadata": {},
   "outputs": [],
   "source": [
    "def t_operator(f): #Anvend T-operator delen fra lign 24\n",
    "    return f * np.exp(-1.j*p**2 *dt/2)\n",
    "\n",
    "def v_operator(f): #Anvend V-operator delen fra lign 24\n",
    "    return f * np.exp(-1.j*V(x)*dt)"
   ]
  },
  {
   "cell_type": "markdown",
   "metadata": {},
   "source": [
    "Endeligt køres koden igennem pr. tidsskridt. Har prøvet at markere den logiske fremgang i kode-kommentarene.."
   ]
  },
  {
   "cell_type": "code",
   "execution_count": 7,
   "metadata": {},
   "outputs": [],
   "source": [
    "psis = []\n",
    "\n",
    "psi = psi_0/np.sqrt(np.trapz(np.flip(x),np.abs(psi_0)**2))\n",
    "f = psi_0/np.sqrt(np.trapz(np.flip(x),np.abs(psi_0)**2))\n",
    "\n",
    "for t in range(timesteps):\n",
    "    if t % 40 == 0:\n",
    "        psis.append(psi) \n",
    "    f = t_operator(fft(f)) # f → T_operator(ftilde)\n",
    "    f = v_operator(ifft(f)) # ftilde → V_operator(f)\n",
    "    f = t_operator(fft(f)) # f → T_operator(ftilde)\n",
    "    f = ifft(f) # ftilde → f\n",
    "    psi = f/np.sqrt(np.trapz(np.flip(x),np.abs(f)**2)) #Normaliser"
   ]
  },
  {
   "cell_type": "markdown",
   "metadata": {},
   "source": [
    "Plot og animer:"
   ]
  },
  {
   "cell_type": "code",
   "execution_count": 8,
   "metadata": {},
   "outputs": [
    {
     "data": {
      "text/plain": [
       "<matplotlib.animation.FuncAnimation at 0x19624f6fc70>"
      ]
     },
     "execution_count": 8,
     "metadata": {},
     "output_type": "execute_result"
    }
   ],
   "source": [
    "fig, ax = plt.subplots(1,1,tight_layout=True)\n",
    "psi_plot, = ax.plot([],[],lw=.4,color='k',label=r'$|\\Psi|^2$')\n",
    "ax.set_ylim(0.0,0.05)\n",
    "ax.legend(frameon=False,fontsize=14)\n",
    "ax.set_xticklabels([])\n",
    "ax.set_yticklabels([])\n",
    "ax.set_xlabel('x')\n",
    "ax.set_ylabel(r'Relativ sandsynlighedstæthed $\\rho$')\n",
    "ax.set_title('Simulering af grundtilstanden ved udvikling i imaginær tid')\n",
    "ax2 = ax.twinx()\n",
    "ax2.set_ylim(0,350)\n",
    "ax2.set_yticklabels([])\n",
    "ax2.show_yticks = False\n",
    "ax2.plot(x,V(x),color='red',label='V(x)',lw=.4)\n",
    "ax2.fill_between(x,V(x),color='k',alpha=0.5)\n",
    "ax2.legend(frameon=False,loc='upper left',fontsize=14)\n",
    "ax.set_xlim(xl,x[-1])\n",
    "def update(i):\n",
    "    psi_plot.set_data(x,np.abs(psis[i])**2)\n",
    "    return [psi_plot]\n",
    "\n",
    "anim = animation.FuncAnimation(fig,\n",
    "                               update,\n",
    "                               frames=len(psis),\n",
    "                               interval=2)\n",
    "anim"
   ]
  },
  {
   "cell_type": "code",
   "execution_count": 9,
   "metadata": {},
   "outputs": [],
   "source": [
    "writergif = animation.PillowWriter(fps=30)\n",
    "anim.save('den_endelige_broend_animation.gif',writer=writergif)"
   ]
  },
  {
   "cell_type": "code",
   "execution_count": null,
   "metadata": {},
   "outputs": [],
   "source": []
  }
 ],
 "metadata": {
  "kernelspec": {
   "display_name": "Python 3",
   "language": "python",
   "name": "python3"
  },
  "language_info": {
   "codemirror_mode": {
    "name": "ipython",
    "version": 3
   },
   "file_extension": ".py",
   "mimetype": "text/x-python",
   "name": "python",
   "nbconvert_exporter": "python",
   "pygments_lexer": "ipython3",
   "version": "3.8.3"
  }
 },
 "nbformat": 4,
 "nbformat_minor": 4
}
